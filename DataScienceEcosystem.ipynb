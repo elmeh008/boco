{
 "cells": [
  {
   "cell_type": "markdown",
   "id": "4c4a6588-09da-4691-82cd-4fe581fa2bc8",
   "metadata": {},
   "source": [
    "# Data Science Tools and Ecosystem"
   ]
  },
  {
   "cell_type": "markdown",
   "id": "b79557d5-7069-4ada-8ad8-4718d2db32e6",
   "metadata": {},
   "source": [
    "In this notebook, Data Science Tools and Ecosystem are summarized"
   ]
  },
  {
   "cell_type": "markdown",
   "id": "665c8c18-20ec-409d-98c3-b3d7d5f735ed",
   "metadata": {},
   "source": [
    "**Objectives:** \n",
    "* List popular languages for Data Science\n",
    "* List popular open source tools for Data Science \n",
    "* Discover commonly used libraries in Data Science"
   ]
  },
  {
   "cell_type": "markdown",
   "id": "1e04b419-69d6-4030-8287-acaadb3afb13",
   "metadata": {},
   "source": [
    "Some of the popular languages that Data Scientists use are : \n",
    "1. R \n",
    "2. Python \n",
    "3. Scala"
   ]
  },
  {
   "cell_type": "markdown",
   "id": "39aee1a9-9247-432f-9672-126ab3c74c04",
   "metadata": {},
   "source": [
    "Some of the commonly used libraries used by Data Scientists include : \n",
    "1. TensorFlow \n",
    "2. NumPy \n",
    "3. SciPy \n"
   ]
  },
  {
   "cell_type": "markdown",
   "id": "4aff5108-ba33-4bf6-bb7f-10e03b4f990b",
   "metadata": {},
   "source": [
    "| Data Science Tools |\n",
    "| :- |\n",
    "| Matplotlib |\n",
    "| Apache Hadoop |\n",
    "| Apache Spark | \n"
   ]
  },
  {
   "cell_type": "markdown",
   "id": "29bbb195-e616-45f0-bcd4-0352ce21056a",
   "metadata": {
    "tags": []
   },
   "source": [
    "### Below are a few examples of evaluating arithmetic expressions in Python\n"
   ]
  },
  {
   "cell_type": "code",
   "execution_count": 3,
   "id": "838ba5bd-5873-47c4-a90c-f30aaca98b2f",
   "metadata": {
    "tags": []
   },
   "outputs": [
    {
     "data": {
      "text/plain": [
       "17"
      ]
     },
     "execution_count": 3,
     "metadata": {},
     "output_type": "execute_result"
    }
   ],
   "source": [
    "# This a simple arithmetic expression to mutiply then add integers\n",
    "\n",
    "(3*4)+5"
   ]
  },
  {
   "cell_type": "code",
   "execution_count": 8,
   "id": "26417510-9344-4c6b-ba00-a8aba90b1fbf",
   "metadata": {
    "tags": []
   },
   "outputs": [
    {
     "name": "stdout",
     "output_type": "stream",
     "text": [
      "200 minutes is approximately 3.33 hours\n"
     ]
    }
   ],
   "source": [
    "# This will convert 200 minutes to hours by diving by 60\n",
    "\n",
    "def minutes_to_hours(x) : \n",
    "    return x/60 \n",
    "\n",
    "res = minutes_to_hours(200) \n",
    "\n",
    "print(\"200 minutes is approximately \" +  str(int(res*100)/100) + \" hours\")"
   ]
  },
  {
   "cell_type": "markdown",
   "id": "efd5c310-8ca7-4106-90fe-972948b5a857",
   "metadata": {},
   "source": [
    "## Author ##\n",
    "BOUIZZOU El Mehdi"
   ]
  },
  {
   "cell_type": "code",
   "execution_count": null,
   "id": "5095ee93-78cd-4d24-82bd-ae9c594df20d",
   "metadata": {},
   "outputs": [],
   "source": []
  }
 ],
 "metadata": {
  "kernelspec": {
   "display_name": "Python",
   "language": "python",
   "name": "conda-env-python-py"
  },
  "language_info": {
   "codemirror_mode": {
    "name": "ipython",
    "version": 3
   },
   "file_extension": ".py",
   "mimetype": "text/x-python",
   "name": "python",
   "nbconvert_exporter": "python",
   "pygments_lexer": "ipython3",
   "version": "3.7.12"
  }
 },
 "nbformat": 4,
 "nbformat_minor": 5
}
